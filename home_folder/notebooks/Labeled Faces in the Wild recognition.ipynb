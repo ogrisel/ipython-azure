{
 "metadata": {
  "name": "Labeled Faces in the Wild recognition"
 },
 "nbformat": 3,
 "nbformat_minor": 0,
 "worksheets": [
  {
   "cells": [
    {
     "cell_type": "markdown",
     "metadata": {},
     "source": [
      "# Face Recognition on a subset of the Labeled Faces in the Wild dataset"
     ]
    },
    {
     "cell_type": "code",
     "collapsed": false,
     "input": [
      "%pylab inline\n",
      "\n",
      "import pylab as pl\n",
      "import numpy as np"
     ],
     "language": "python",
     "metadata": {},
     "outputs": []
    },
    {
     "cell_type": "markdown",
     "metadata": {},
     "source": [
      "## The LFW dataset\n",
      "\n",
      "Let's start with downloading the data using a scikit-learn utility function."
     ]
    },
    {
     "cell_type": "code",
     "collapsed": false,
     "input": [
      "from sklearn.datasets import fetch_lfw_people\n",
      "\n",
      "lfw_people = fetch_lfw_people(min_faces_per_person=70, resize=0.4)"
     ],
     "language": "python",
     "metadata": {},
     "outputs": []
    },
    {
     "cell_type": "markdown",
     "metadata": {},
     "source": [
      "Let's introspect the images arrays to find the shapes (for plotting with matplotlib)"
     ]
    },
    {
     "cell_type": "code",
     "collapsed": false,
     "input": [
      "X = lfw_people.data\n",
      "y = lfw_people.target\n",
      "names = lfw_people.target_names\n",
      "\n",
      "n_samples, n_features = X.shape\n",
      "_, h, w = lfw_people.images.shape\n",
      "n_classes = len(names)\n",
      "\n",
      "print(\"n_samples: {}\".format(n_samples))\n",
      "print(\"n_features: {}\".format(n_features))\n",
      "print(\"n_classes: {}\".format(n_classes))"
     ],
     "language": "python",
     "metadata": {},
     "outputs": []
    },
    {
     "cell_type": "code",
     "collapsed": false,
     "input": [
      "def plot_gallery(images, titles, h, w, n_row=3, n_col=6):\n",
      "    \"\"\"Helper function to plot a gallery of portraits\"\"\"\n",
      "    pl.figure(figsize=(1.7 * n_col, 2.3 * n_row))\n",
      "    pl.subplots_adjust(bottom=0, left=.01, right=.99, top=.90, hspace=.35)\n",
      "    for i in range(n_row * n_col):\n",
      "        pl.subplot(n_row, n_col, i + 1)\n",
      "        pl.imshow(images[i].reshape((h, w)), cmap=pl.cm.gray)\n",
      "        pl.title(titles[i], size=12)\n",
      "        pl.xticks(())\n",
      "        pl.yticks(())\n",
      "\n",
      "plot_gallery(X, names[y], h, w)"
     ],
     "language": "python",
     "metadata": {},
     "outputs": []
    },
    {
     "cell_type": "markdown",
     "metadata": {},
     "source": [
      "Let's have a look at the repartition among target classes:"
     ]
    },
    {
     "cell_type": "code",
     "collapsed": false,
     "input": [
      "pl.figure(figsize=(14, 3))\n",
      "\n",
      "y_unique = np.unique(y)\n",
      "counts = [(y == i).sum() for i in y_unique]\n",
      "\n",
      "pl.xticks(y_unique,  names[y_unique])\n",
      "locs, labels = pl.xticks()\n",
      "pl.setp(labels, rotation=45, size=20)\n",
      "_ = pl.bar(y_unique, counts)"
     ],
     "language": "python",
     "metadata": {},
     "outputs": []
    },
    {
     "cell_type": "markdown",
     "metadata": {},
     "source": [
      "## Splitting the dataset for model development and then evaluation\n",
      "\n",
      "Let's split the data in a development set and final evaluation set."
     ]
    },
    {
     "cell_type": "code",
     "collapsed": false,
     "input": [
      "from sklearn.cross_validation import train_test_split\n",
      "\n",
      "X_train, X_test, y_train, y_test = train_test_split(X, y, test_size=0.25)"
     ],
     "language": "python",
     "metadata": {},
     "outputs": []
    },
    {
     "cell_type": "markdown",
     "metadata": {},
     "source": [
      "## Unsupervised Feature Extraction with Randomized PCA"
     ]
    },
    {
     "cell_type": "markdown",
     "metadata": {},
     "source": [
      "To train a model we will first reduce the dimensionality of the original picture to a 150 PCA space: unsupervised feature extraction."
     ]
    },
    {
     "cell_type": "code",
     "collapsed": false,
     "input": [
      "from sklearn.decomposition import RandomizedPCA\n",
      "\n",
      "n_components = 150\n",
      "\n",
      "print \"Extracting the top %d eigenfaces from %d faces\" % (\n",
      "    n_components, X_train.shape[0])\n",
      "\n",
      "pca = RandomizedPCA(n_components=n_components, whiten=True)\n",
      "\n",
      "%time pca.fit(X_train)\n",
      "\n",
      "eigenfaces = pca.components_.reshape((n_components, h, w))"
     ],
     "language": "python",
     "metadata": {},
     "outputs": []
    },
    {
     "cell_type": "markdown",
     "metadata": {},
     "source": [
      "Let's plot the gallery of the most significant eigenfaces:"
     ]
    },
    {
     "cell_type": "code",
     "collapsed": false,
     "input": [
      "eigenface_titles = [\"eigenface %d\" % i for i in range(eigenfaces.shape[0])]\n",
      "plot_gallery(eigenfaces, eigenface_titles, h, w)"
     ],
     "language": "python",
     "metadata": {},
     "outputs": []
    },
    {
     "cell_type": "markdown",
     "metadata": {},
     "source": [
      "Projecting the input data on the eigenfaces orthonormal basis:"
     ]
    },
    {
     "cell_type": "code",
     "collapsed": false,
     "input": [
      "X_train_pca = pca.transform(X_train)"
     ],
     "language": "python",
     "metadata": {},
     "outputs": []
    },
    {
     "cell_type": "markdown",
     "metadata": {},
     "source": [
      "## Training a Gaussian Kernel Support Vector Machine\n",
      "\n",
      "Let's now train a Kernel Support Vector Machine on the projected data. We perform an automated parameter search to find good values for Gamma and C:"
     ]
    },
    {
     "cell_type": "code",
     "collapsed": false,
     "input": [
      "from sklearn.svm import SVC\n",
      "\n",
      "svm = SVC(kernel='rbf', class_weight='auto')\n",
      "\n",
      "svm"
     ],
     "language": "python",
     "metadata": {},
     "outputs": []
    },
    {
     "cell_type": "markdown",
     "metadata": {},
     "source": [
      "Unfortunately an SVM is very sensitive to the parameters C and gamma and it's very unlikely that the default parameters will yield a good predictive accurracy:"
     ]
    },
    {
     "cell_type": "code",
     "collapsed": false,
     "input": [
      "from sklearn.cross_validation import StratifiedShuffleSplit\n",
      "from sklearn.cross_validation import cross_val_score\n",
      "\n",
      "cv = StratifiedShuffleSplit(y_train, test_size=0.20, n_iter=3)\n",
      "\n",
      "%time svm_cv_scores = cross_val_score(svm, X_train_pca, y_train, n_jobs=-1)\n",
      "svm_cv_scores"
     ],
     "language": "python",
     "metadata": {},
     "outputs": []
    },
    {
     "cell_type": "code",
     "collapsed": false,
     "input": [
      "svm_cv_scores.mean(), svm_cv_scores.std()"
     ],
     "language": "python",
     "metadata": {},
     "outputs": []
    },
    {
     "cell_type": "markdown",
     "metadata": {},
     "source": [
      "## Data-driven hyper-parameters tuning using a Cross-Validated Grid Search\n",
      "\n",
      "Fortunately we can automate the search for the best combination of parameters:"
     ]
    },
    {
     "cell_type": "code",
     "collapsed": false,
     "input": [
      "from sklearn.grid_search import GridSearchCV\n",
      "\n",
      "param_grid = {\n",
      "    'C': [1e3, 5e3, 1e4, 5e4, 1e5],\n",
      "    'gamma': [0.0001, 0.0005, 0.001, 0.005, 0.01, 0.1],\n",
      "}\n",
      "\n",
      "clf = GridSearchCV(svm, param_grid, cv=cv, n_jobs=-1)"
     ],
     "language": "python",
     "metadata": {},
     "outputs": []
    },
    {
     "cell_type": "code",
     "collapsed": false,
     "input": [
      "%time clf = clf.fit(X_train_pca, y_train)\n",
      "\n",
      "print(\"Best estimator found by randomized hyper parameter search:\")\n",
      "print(clf.best_params_)\n",
      "print(\"Best parameters validation score: {:.3f}\".format(clf.best_score_))"
     ],
     "language": "python",
     "metadata": {},
     "outputs": []
    },
    {
     "cell_type": "markdown",
     "metadata": {},
     "source": [
      "## Final evaluation of the best model on the held-out test set\n",
      "\n",
      "Let's start with a qualitative inspection of the some of the predictions:"
     ]
    },
    {
     "cell_type": "code",
     "collapsed": false,
     "input": [
      "X_test_pca = pca.transform(X_test)\n",
      "y_pred = clf.predict(X_test_pca)"
     ],
     "language": "python",
     "metadata": {},
     "outputs": []
    },
    {
     "cell_type": "code",
     "collapsed": false,
     "input": [
      "def title(y_pred, y_test, target_names, i):\n",
      "    pred_name = target_names[y_pred[i]].rsplit(' ', 1)[-1]\n",
      "    true_name = target_names[y_test[i]].rsplit(' ', 1)[-1]\n",
      "    return 'predicted: %s\\ntrue:      %s' % (pred_name, true_name)\n",
      "\n",
      "prediction_titles = [title(y_pred, y_test, names, i)\n",
      "                     for i in range(y_pred.shape[0])]\n",
      "\n",
      "plot_gallery(X_test, prediction_titles, h, w)"
     ],
     "language": "python",
     "metadata": {},
     "outputs": []
    },
    {
     "cell_type": "code",
     "collapsed": false,
     "input": [
      "from sklearn.metrics import classification_report\n",
      "\n",
      "print(classification_report(y_test, y_pred, target_names=names))"
     ],
     "language": "python",
     "metadata": {},
     "outputs": []
    },
    {
     "cell_type": "code",
     "collapsed": false,
     "input": [
      "from sklearn.metrics import confusion_matrix\n",
      "\n",
      "cm = confusion_matrix(y_test, y_pred, labels=range(n_classes))\n",
      "print(cm)"
     ],
     "language": "python",
     "metadata": {},
     "outputs": []
    },
    {
     "cell_type": "code",
     "collapsed": false,
     "input": [
      "pl.gray()\n",
      "_ = pl.imshow(cm, interpolation='nearest')"
     ],
     "language": "python",
     "metadata": {},
     "outputs": []
    },
    {
     "cell_type": "code",
     "collapsed": false,
     "input": [],
     "language": "python",
     "metadata": {},
     "outputs": []
    }
   ],
   "metadata": {}
  }
 ]
}